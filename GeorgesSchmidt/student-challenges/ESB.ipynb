{
  "nbformat": 4,
  "nbformat_minor": 0,
  "metadata": {
    "colab": {
      "provenance": [],
      "authorship_tag": "ABX9TyPGU+pI5IPPyCYhTTXYL1w+",
      "include_colab_link": true
    },
    "kernelspec": {
      "name": "python3",
      "display_name": "Python 3"
    },
    "language_info": {
      "name": "python"
    }
  },
  "cells": [
    {
      "cell_type": "markdown",
      "metadata": {
        "id": "view-in-github",
        "colab_type": "text"
      },
      "source": [
        "<a href=\"https://colab.research.google.com/github/GeorgesSchmidt/DataScience/blob/main/GeorgesSchmidt/student-challenges/ESB.ipynb\" target=\"_parent\"><img src=\"https://colab.research.google.com/assets/colab-badge.svg\" alt=\"Open In Colab\"/></a>"
      ]
    },
    {
      "cell_type": "code",
      "execution_count": 1,
      "metadata": {
        "id": "IrbIbXa8GZac"
      },
      "outputs": [],
      "source": [
        "import numpy as np"
      ]
    },
    {
      "cell_type": "code",
      "source": [
        "np.random.seed(42)"
      ],
      "metadata": {
        "colab": {
          "base_uri": "https://localhost:8080/",
          "height": 174
        },
        "id": "CRhmGRMxGcy3",
        "outputId": "e797a845-8c42-4d76-8c63-3a6c22352737"
      },
      "execution_count": 2,
      "outputs": [
        {
          "output_type": "error",
          "ename": "NameError",
          "evalue": "ignored",
          "traceback": [
            "\u001b[0;31m---------------------------------------------------------------------------\u001b[0m",
            "\u001b[0;31mNameError\u001b[0m                                 Traceback (most recent call last)",
            "\u001b[0;32m<ipython-input-2-4016fe329f45>\u001b[0m in \u001b[0;36m<cell line: 1>\u001b[0;34m()\u001b[0m\n\u001b[0;32m----> 1\u001b[0;31m \u001b[0mnp\u001b[0m\u001b[0;34m.\u001b[0m\u001b[0mrandom\u001b[0m\u001b[0;34m.\u001b[0m\u001b[0mseed\u001b[0m\u001b[0;34m(\u001b[0m\u001b[0;36m42\u001b[0m\u001b[0;34m)\u001b[0m\u001b[0;34m\u001b[0m\u001b[0;34m\u001b[0m\u001b[0m\n\u001b[0m",
            "\u001b[0;31mNameError\u001b[0m: name 'np' is not defined"
          ]
        }
      ]
    },
    {
      "cell_type": "code",
      "source": [
        "import numpy as np"
      ],
      "metadata": {
        "id": "SvNZwHucGrxI"
      },
      "execution_count": 3,
      "outputs": []
    },
    {
      "cell_type": "code",
      "source": [
        "np.random.seed(42)"
      ],
      "metadata": {
        "id": "U41t1NvKGvUq"
      },
      "execution_count": 4,
      "outputs": []
    },
    {
      "cell_type": "code",
      "source": [
        "def roll_dice():\n",
        "  return np.random.randint(1, 7)"
      ],
      "metadata": {
        "id": "WI-08m_TGxux"
      },
      "execution_count": 5,
      "outputs": []
    },
    {
      "cell_type": "code",
      "source": [
        "def is_clumsy():\n",
        "  return np.random.rand() < 0.001"
      ],
      "metadata": {
        "id": "DIHH8SSSG5KK"
      },
      "execution_count": 6,
      "outputs": []
    },
    {
      "cell_type": "code",
      "source": [
        "def move_floor(current_floor):\n",
        "  dice_result = roll_dice()\n",
        "  if dice_result in {1, 2}:\n",
        "    return max(0, current_floor - 1)\n",
        "  elif dice_result in {3, 4, 5}:\n",
        "    return current_floor + 1\n",
        "  else:\n",
        "    return current_floor + roll_dice()"
      ],
      "metadata": {
        "id": "zfcaHjQoG_ee"
      },
      "execution_count": 7,
      "outputs": []
    },
    {
      "cell_type": "code",
      "source": [
        "def one_walk():\n",
        "  current_floor = 0\n",
        "  for _ in range(100):\n",
        "    if is_clumsy():\n",
        "      current_floor = 0\n",
        "    else:\n",
        "      current_floor = move_floor(current_floor)\n",
        "  return current_floor"
      ],
      "metadata": {
        "id": "fcxTXs9RHbqv"
      },
      "execution_count": 8,
      "outputs": []
    },
    {
      "cell_type": "code",
      "source": [
        "def n_walks(n):\n",
        "  return np.array([one_walk() for _ in range(n)])"
      ],
      "metadata": {
        "id": "dyoxVgvfHx0c"
      },
      "execution_count": 9,
      "outputs": []
    },
    {
      "cell_type": "code",
      "source": [
        "result = n_walks(100)"
      ],
      "metadata": {
        "id": "uqxSrzfaH8_u"
      },
      "execution_count": 10,
      "outputs": []
    },
    {
      "cell_type": "code",
      "source": [
        "mean_floor = np.mean(result)"
      ],
      "metadata": {
        "id": "G4QS_-RNICMD"
      },
      "execution_count": 11,
      "outputs": []
    },
    {
      "cell_type": "code",
      "source": [
        "print(f\"Mean floor reached : {mean_floor}\")"
      ],
      "metadata": {
        "colab": {
          "base_uri": "https://localhost:8080/"
        },
        "id": "nkntcrSsIGH-",
        "outputId": "fba94139-d964-444d-9bad-b097c2b116e4"
      },
      "execution_count": 12,
      "outputs": [
        {
          "output_type": "stream",
          "name": "stdout",
          "text": [
            "Mean floor reached : 71.45\n"
          ]
        }
      ]
    },
    {
      "cell_type": "code",
      "source": [
        "prob_at_least_floor60 = np.mean(result >= 60)"
      ],
      "metadata": {
        "id": "sjKQEogdILdV"
      },
      "execution_count": 13,
      "outputs": []
    },
    {
      "cell_type": "code",
      "source": [
        "print(\"Prob of reaching at least floor 60 :\", prob_at_least_floor60)"
      ],
      "metadata": {
        "colab": {
          "base_uri": "https://localhost:8080/"
        },
        "id": "w3T_pL4vIUqJ",
        "outputId": "276c6aac-e446-4c68-dfd0-7a6f3674c609"
      },
      "execution_count": 14,
      "outputs": [
        {
          "output_type": "stream",
          "name": "stdout",
          "text": [
            "Prob of reaching at least floor 60 : 0.78\n"
          ]
        }
      ]
    },
    {
      "cell_type": "code",
      "source": [
        "prob_reaching_top = np.mean(result==102)"
      ],
      "metadata": {
        "id": "pO1__KlzIc7R"
      },
      "execution_count": 15,
      "outputs": []
    },
    {
      "cell_type": "code",
      "source": [
        "print(\"Prob of reaching top \", prob_reaching_top)"
      ],
      "metadata": {
        "colab": {
          "base_uri": "https://localhost:8080/"
        },
        "id": "tP3DDEWRIkDD",
        "outputId": "cebdf8c6-0914-450d-fd58-fa5fe37020a7"
      },
      "execution_count": 16,
      "outputs": [
        {
          "output_type": "stream",
          "name": "stdout",
          "text": [
            "Prob of reaching top  0.0\n"
          ]
        }
      ]
    },
    {
      "cell_type": "code",
      "source": [],
      "metadata": {
        "id": "b7CRssWtIoBU"
      },
      "execution_count": null,
      "outputs": []
    }
  ]
}